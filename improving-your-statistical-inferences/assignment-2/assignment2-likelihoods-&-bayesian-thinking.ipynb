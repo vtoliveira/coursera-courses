{
 "cells": [
  {
   "cell_type": "markdown",
   "metadata": {},
   "source": [
    "# Assignment 2 - Likelihoods"
   ]
  },
  {
   "cell_type": "markdown",
   "metadata": {},
   "source": [
    "**Q1: Let’s assume you expect this is a fair coin. What is the binomial probability of\n",
    "observing 8 heads out of 10 coin flips, when θ = 0.5?**\n",
    "\n",
    "- **A) 0.044**\n",
    "- B) 0.05\n",
    "- C) 0.5\n",
    "- D) 0.8"
   ]
  },
  {
   "cell_type": "code",
   "execution_count": 70,
   "metadata": {},
   "outputs": [
    {
     "data": {
      "text/plain": [
       "0.0439453125"
      ]
     },
     "execution_count": 70,
     "metadata": {},
     "output_type": "execute_result"
    }
   ],
   "source": [
    "import math\n",
    "\n",
    "n = 10\n",
    "k = 8\n",
    "\n",
    "theta = 0.5\n",
    "\n",
    "def binomial_probability(n, k, theta):\n",
    "    return (math.factorial(n)/((math.factorial(k))*(math.factorial(n-k))))*(theta**k)*(1-theta)**(n-k)\n",
    "\n",
    "binomial_probability(10, 8, 0.5)"
   ]
  },
  {
   "cell_type": "markdown",
   "metadata": {},
   "source": [
    "**Q2: The likelihood curve rises up and falls down, except at the extremes, when 0 heads\n",
    "or only heads are observed. Open the PlotLikelihood.R script, and plot the likelihood\n",
    "curves for 0 heads by changing the number of successes in line 3 to 0, and running the\n",
    "script. What does the likelihood curve look like?**\n",
    "\n",
    "- A) The likelihood curve is a horizontal line.\n",
    "- B) The script returns and error message: it is not possible to plot the likelihood curve for 0 heads.\n",
    "- **C) The curve starts at its highest point at θ = 0, and then the likelihood decreases as θ increases.**\n",
    "- D) The curve starts at its lowest point at θ = 0, and then the likelihood increases as θ increases."
   ]
  },
  {
   "cell_type": "code",
   "execution_count": 71,
   "metadata": {},
   "outputs": [
    {
     "data": {
      "image/png": "[encoded data removed]",
      "text/plain": [
       "<Figure size 432x288 with 1 Axes>"
      ]
     },
     "metadata": {},
     "output_type": "display_data"
    }
   ],
   "source": [
    "import numpy as np\n",
    "import seaborn as sns\n",
    "import pandas as pd\n",
    "\n",
    "thetas = np.linspace(0, 1, 100)\n",
    "\n",
    "likelihoods = []\n",
    "for theta in thetas:\n",
    "    likelihoods.append(binomial_probability(n, 0, theta))\n",
    "\n",
    "data = pd.DataFrame(np.c_[thetas, np.array(likelihoods)], columns=['theta', 'likelihood'])\n",
    "sns.lineplot(x=\"theta\", y=\"likelihood\",\n",
    "             data=data);"
   ]
  },
  {
   "cell_type": "markdown",
   "metadata": {},
   "source": [
    "**Q3: Get a coin out of your wallet. Flip it 13 times, and count the number of heads. Open\n",
    "the R file CalculateLikelihoodRatio.R to calculate the likelihood of your observed results\n",
    "under the hypothesis that your coin is fair, compared to the hypothesis that the coin is\n",
    "not fair. In line 3, set the number of successes to the number of heads you observed. In\n",
    "line 5, change the 0 in 0/13 to the number of heads you have observed (or leave it to 0 if\n",
    "you didn’t observe any heads at all!). Run the script to calculate the likelihood ratio. What\n",
    "is the likelihood ratio of a fair compared to a non-fair coin (or H0/H1) that flips heads as 8\n",
    "often as you have observed, based on the observed data? Round your answer to 2 digits\n",
    "after the decimal.**"
   ]
  },
  {
   "cell_type": "code",
   "execution_count": 72,
   "metadata": {},
   "outputs": [
    {
     "name": "stdout",
     "output_type": "stream",
     "text": [
      "Likelihood ratio of H0 over H1: 0.7051860601460864\n"
     ]
    }
   ],
   "source": [
    "# Calculate likelihood ratio\n",
    "\n",
    "# trials\n",
    "n = 13\n",
    "\n",
    "# sucesses\n",
    "x = 8\n",
    "\n",
    "null_hypothesis = 0.5\n",
    "alternative_hypothesis = 8/13\n",
    "\n",
    "print(\"Likelihood ratio of H0 over H1: {}\".format((binomial_probability(n, x, null_hypothesis) /\n",
    "                                               binomial_probability(n, x, alternative_hypothesis))))"
   ]
  },
  {
   "cell_type": "markdown",
   "metadata": {},
   "source": [
    "**Q4: What is the likelihood ratio for 5 out of 10 heads?**"
   ]
  },
  {
   "cell_type": "code",
   "execution_count": 75,
   "metadata": {},
   "outputs": [
    {
     "name": "stdout",
     "output_type": "stream",
     "text": [
      "Likelihood ratio of H0 over H1: 0.984177775938195\n"
     ]
    }
   ],
   "source": [
    "null_hypothesis = 0.5\n",
    "alternative_hypothesis = 0.4\n",
    "\n",
    "n = 10\n",
    "\n",
    "# sucesses\n",
    "x = 5\n",
    "print(\"Likelihood ratio of H0 over H1: {}\".format((binomial_probability(n, x, null_hypothesis) /\n",
    "                                               binomial_probability(n, x, alternative_hypothesis))))"
   ]
  },
  {
   "cell_type": "markdown",
   "metadata": {},
   "source": [
    "**Q5: What is the likelihood ratio for 50 out of 100 heads?**"
   ]
  },
  {
   "cell_type": "code",
   "execution_count": 23,
   "metadata": {},
   "outputs": [
    {
     "name": "stdout",
     "output_type": "stream",
     "text": [
      "Likelihood ratio of H0 over H1: 7.699071414075183\n"
     ]
    }
   ],
   "source": [
    "n = 100\n",
    "x = 50\n",
    "print(\"Likelihood ratio of H0 over H1: {}\".format((binomial_probability(n, x, null_hypothesis) /\n",
    "                                               binomial_probability(n, x, alternative_hypothesis))))"
   ]
  },
  {
   "cell_type": "code",
   "execution_count": 24,
   "metadata": {},
   "outputs": [
    {
     "name": "stdout",
     "output_type": "stream",
     "text": [
      "Likelihood ratio of H0 over H1: 731784961.3558342\n"
     ]
    }
   ],
   "source": [
    "n = 1000\n",
    "x = 500\n",
    "print(\"Likelihood ratio of H0 over H1: {}\".format((binomial_probability(n, x, null_hypothesis) /\n",
    "                                               binomial_probability(n, x, alternative_hypothesis))))"
   ]
  },
  {
   "cell_type": "markdown",
   "metadata": {},
   "source": [
    "**Q7: When comparing two hypotheses ( θ = X vs θ = Y), a likelihood ratio of:**\n",
    "\n",
    "- A) 0.02 means that there is not enough evidence in the data for either of the two hypotheses.\n",
    "- B) 5493 means that hypothesis θ = X is most supported by the data.\n",
    "- **C) 5493 means that hypothesis θ = X is much more supported by the data than θ = Y.**\n",
    "- D) 0.02 means that the hypothesis that the data are 2% more likely under the hypothesis that θ = X than under the hypothesis that θ = Y"
   ]
  },
  {
   "cell_type": "markdown",
   "metadata": {},
   "source": [
    "# Assignment 2 - Bayesian Thinking"
   ]
  },
  {
   "cell_type": "markdown",
   "metadata": {},
   "source": [
    "**Q1: The true believer had a prior of Beta(1,0.5). After observing 10 heads out of 20 coin\n",
    "flips, what is the posterior distribution, given that α* = α + x and β* = β + n – x?**\n",
    "\n",
    "- A) Beta(10, 10)\n",
    "- **B) Beta(11, 10.5)**\n",
    "- C) Beta(10, 20)\n",
    "- D) Beta(11, 20.5)"
   ]
  },
  {
   "cell_type": "code",
   "execution_count": 1,
   "metadata": {},
   "outputs": [
    {
     "data": {
      "text/plain": [
       "(11, 10.5)"
      ]
     },
     "execution_count": 1,
     "metadata": {},
     "output_type": "execute_result"
    }
   ],
   "source": [
    "x = 10\n",
    "n = 20\n",
    "\n",
    "alpha = 1\n",
    "beta = 0.5\n",
    "\n",
    "alpha_asterico = alpha + x\n",
    "beta_asterisco = beta+n-x\n",
    "\n",
    "alpha_asterico, beta_asterisco"
   ]
  },
  {
   "cell_type": "markdown",
   "metadata": {},
   "source": [
    "**Q2: The strong skeptic had a prior of Beta(100,100). After observing 50 heads out of 100\n",
    "coin flips, what is the posterior distribution, given that α* = α + x and β* = β + n – x? **\n",
    "\n",
    "- A) Beta(50, 50)\n",
    "- B) Beta(51, 51)\n",
    "- **C) Beta(150, 150)**\n",
    "- D) Beta(151, 151)"
   ]
  },
  {
   "cell_type": "code",
   "execution_count": 2,
   "metadata": {},
   "outputs": [
    {
     "data": {
      "text/plain": [
       "(150, 150)"
      ]
     },
     "execution_count": 2,
     "metadata": {},
     "output_type": "execute_result"
    }
   ],
   "source": [
    "x = 50\n",
    "n = 100\n",
    "\n",
    "alpha = 100\n",
    "beta = 100\n",
    "\n",
    "alpha_asterico = alpha + x\n",
    "beta_asterisco = beta+n-x\n",
    "\n",
    "alpha_asterico, beta_asterisco"
   ]
  },
  {
   "cell_type": "code",
   "execution_count": 76,
   "metadata": {},
   "outputs": [
    {
     "data": {
      "image/png": "[encoded data removed]",
      "text/plain": [
       "<Figure size 432x288 with 1 Axes>"
      ]
     },
     "metadata": {},
     "output_type": "display_data"
    }
   ],
   "source": [
    "import numpy as np\n",
    "from scipy.stats import beta\n",
    "import matplotlib.pyplot as plt\n",
    "\n",
    "%matplotlib inline\n",
    "\n",
    "H0 = 0.675\n",
    "n = 20\n",
    "x = 10\n",
    "\n",
    "aprior = 1\n",
    "bprior = 1\n",
    "\n",
    "alikelihood = x + 1\n",
    "blikelihood = n - x + 1\n",
    "\n",
    "aposterior = aprior+alikelihood-1\n",
    "bposterior = bprior+blikelihood-1\n",
    "\n",
    "theta = np.arange(0, 1, 0.001)\n",
    "\n",
    "prior = beta.pdf(theta, aprior, bprior)\n",
    "likelihood = beta.pdf(theta, alikelihood, blikelihood)\n",
    "posterior = beta.pdf(theta, aposterior, bposterior)\n",
    "\n",
    "#plot(theta, posterior, ylim=c(0, 15), type = \"l\", lwd = 3, xlab = bquote(theta), ylab = \"Density\", las = 1)\n",
    "plt.plot(theta, posterior, lw=3, label='Posterior');\n",
    "plt.plot(theta, likelihood, lw=3, ls='--', color='dodgerblue', label='Likelihood');\n",
    "plt.plot(theta, prior, lw=3, color='grey', label='Prior');"
   ]
  },
  {
   "cell_type": "code",
   "execution_count": 77,
   "metadata": {},
   "outputs": [
    {
     "data": {
      "text/plain": [
       "Text(0.55, 2.0, '1.5062863754075089')"
      ]
     },
     "execution_count": 77,
     "metadata": {},
     "output_type": "execute_result"
    },
    {
     "data": {
      "image/png": "[encoded data removed]",
      "text/plain": [
       "<Figure size 432x288 with 1 Axes>"
      ]
     },
     "metadata": {},
     "output_type": "display_data"
    }
   ],
   "source": [
    "BF10 = beta.pdf(H0, aposterior, bposterior) / beta.pdf(H0, aprior, bprior)\n",
    "plt.scatter(0.5, beta.pdf(H0, aprior, bprior))\n",
    "plt.scatter(0.5, beta.pdf(H0, aposterior, bposterior))\n",
    "\n",
    "plt.plot(theta, posterior, lw=3, label='Posterior');\n",
    "plt.plot(theta, likelihood, lw=3, ls='--', color='dodgerblue', label='Likelihood');\n",
    "plt.plot(theta, prior, lw=3, color='grey', label='Prior');\n",
    "\n",
    "plt.arrow(0.5, 1.0, 0, BF10-beta.pdf(H0, aprior, bprior))\n",
    "plt.annotate(BF10, (0.55, 2.0))"
   ]
  },
  {
   "cell_type": "markdown",
   "metadata": {},
   "source": [
    "**Q3: Change the hypothesis in the first line from 0.5 to 0.675, and run the script. If you\n",
    "were testing the idea that this coin returns 67.5% heads, which statement is true?**\n",
    "\n",
    "- A) Your belief in this hypothesis, given the data, would have decreased.\n",
    "- **B) Your belief in this hypothesis, given the data, would have stayed the same.**\n",
    "- C) Your belief in this hypothesis, given the data, would have increased."
   ]
  },
  {
   "cell_type": "markdown",
   "metadata": {},
   "source": [
    "**Q4: Change the hypothesis in the first line back to 0.5. Let’s look at the increase in the\n",
    "belief of the hypothesis θ = 0.5 for the strong skeptic after 10 heads out of 20 coin flips.\n",
    "Change the α for the prior in line 4 to 100 and the β for the prior in line 5 to 100. Run the\n",
    "script. Compare the Figure from R to the increase in belief for the newborn (in the plot on\n",
    "the previous page). Which statement is true?**\n",
    "\n",
    "- **A) The belief in the hypothesis that θ = 0.5, given the data, has increased for the strong skeptic, but not as much as it has for the newborn.**\n",
    "- B) The belief in the hypothesis that θ = 0.5, given the data, has increased for the strong skeptic, exactly as much as it has for the newborn.\n",
    "- C) The belief in the hypothesis that θ = 0.5, given the data, has increased for the strong skeptic, and much more than it has for the newborn.\n",
    "- D) The belief in the hypothesis that θ = 0.5, given the data, has decreased for the strong skeptic."
   ]
  },
  {
   "cell_type": "code",
   "execution_count": 78,
   "metadata": {},
   "outputs": [
    {
     "data": {
      "text/plain": [
       "<matplotlib.patches.FancyArrow at 0x7f0d0d103ef0>"
      ]
     },
     "execution_count": 78,
     "metadata": {},
     "output_type": "execute_result"
    },
    {
     "data": {
      "image/png": "[encoded data removed]",
      "text/plain": [
       "<Figure size 1080x720 with 1 Axes>"
      ]
     },
     "metadata": {},
     "output_type": "display_data"
    }
   ],
   "source": [
    "n = 10\n",
    "x = 0\n",
    "\n",
    "aprior = 10\n",
    "bprior = 10\n",
    "\n",
    "ymax = 10\n",
    "\n",
    "alikelihood = x + 1\n",
    "blikelihood = n - x + 1\n",
    "\n",
    "aposterior = aprior+alikelihood-1\n",
    "bposterior = bprior+blikelihood-1\n",
    "\n",
    "theta = np.arange(0, 1, 0.001)\n",
    "\n",
    "prior = beta.pdf(theta, aprior, bprior)\n",
    "likelihood = beta.pdf(theta, alikelihood, blikelihood)\n",
    "posterior = beta.pdf(theta, aposterior, bposterior)\n",
    "\n",
    "\n",
    "fig, ax = plt.subplots(figsize=(15, 10))\n",
    "#plot(theta, posterior, ylim=c(0, 15), type = \"l\", lwd = 3, xlab = bquote(theta), ylab = \"Density\", las = 1)\n",
    "plt.plot(theta, posterior, lw=3, label='Posterior');\n",
    "plt.plot(theta, likelihood, lw=3, ls='--', color='dodgerblue', label='Likelihood');\n",
    "plt.plot(theta, prior, lw=3, color='grey', label='Prior');\n",
    "\n",
    "LL = beta.ppf(0.025, aposterior, bposterior) \n",
    "UL = beta.ppf(0.975, aposterior, bposterior) \n",
    "\n",
    "plt.arrow(aposterior/(aposterior+bposterior), 0, 0, ymax)\n",
    "\n",
    "plt.arrow(LL, 0, 0, ymax, color=\"grey\", ls='--', alpha=0.5)\n",
    "plt.arrow(UL, 0, 0, ymax, color=\"grey\", ls='--', alpha=0.5)"
   ]
  },
  {
   "cell_type": "markdown",
   "metadata": {},
   "source": [
    "**Q5: Assume the outcome of 20 coin flips had been 18 heads. Change x to 18 in line 2 and\n",
    "run the script. Remember that the mean of the prior Beta(1,1) distribution is α/(α+β), or\n",
    "1/(1+1) = 0.5. The Frequentist mean is simply x/n, or 18/20=0.9. Which statement is true?**\n",
    "\n",
    "- **A) The frequentist mean is higher than the mean of the posterior, because the mean of the posterior is closer to the mean of the prior distribution. **\n",
    "- B) The frequentist mean is lower than the mean of the posterior, because the mean of the posterior is closer to the mean of the prior distribution.\n",
    "- C) The frequentist mean is higher than the mean of the posterior, because the mean of the posterior is further from to the mean of the prior distribution.\n",
    "- D) The frequentist mean is lower than the mean of the posterior, because the mean of the posterior is further from to the mean of the prior distribution. "
   ]
  },
  {
   "cell_type": "markdown",
   "metadata": {},
   "source": [
    "**Q6: What is, today, your best estimate of the probability that the sun rises every day?\n",
    "Assume you were born with an uniform Beta(1,1) prior. The sun can either rise, or it does\n",
    "not. Assume you have seen the sun every day since you were born, which means there\n",
    "has been a continuous string of successes for every day you have been alive. It is ok to\n",
    "estimate the days you have been alive by just multiplying your age by 365 days. What is\n",
    "your best estimate of the probability that the sun will rise? **"
   ]
  },
  {
   "cell_type": "code",
   "execution_count": 59,
   "metadata": {},
   "outputs": [
    {
     "data": {
      "text/plain": [
       "0.9997893184451702"
      ]
     },
     "execution_count": 59,
     "metadata": {},
     "output_type": "execute_result"
    }
   ],
   "source": [
    "days_alive = 365*26\n",
    "days_alive\n",
    "\n",
    "n = days_alive+1\n",
    "x = days_alive\n",
    "\n",
    "aprior = 1\n",
    "bprior = 1\n",
    "\n",
    "ymax = 10\n",
    "\n",
    "alikelihood = x + 1\n",
    "blikelihood = n - x + 1\n",
    "\n",
    "aposterior = aprior+alikelihood-1\n",
    "bposterior = bprior+blikelihood-1\n",
    "\n",
    "theta = np.arange(0, 1, 0.001)\n",
    "\n",
    "prior = beta.pdf(theta, aprior, bprior)\n",
    "likelihood = beta.pdf(theta, alikelihood, blikelihood)\n",
    "posterior = beta.pdf(theta, aposterior, bposterior)\n",
    "aposterior/(aposterior+bposterior)"
   ]
  },
  {
   "cell_type": "markdown",
   "metadata": {},
   "source": [
    "**Q7: What would have been the best estimate from a Frequentist perspective? **"
   ]
  },
  {
   "cell_type": "code",
   "execution_count": 60,
   "metadata": {},
   "outputs": [
    {
     "data": {
      "text/plain": [
       "1"
      ]
     },
     "execution_count": 60,
     "metadata": {},
     "output_type": "execute_result"
    }
   ],
   "source": [
    "1"
   ]
  },
  {
   "cell_type": "markdown",
   "metadata": {},
   "source": [
    "**Q8: Reflect in 100 words on whether you believe observing only confirming evidence\n",
    "should ever lead to an estimate of 100%, or whether there should always be some small\n",
    "remaining doubt.**"
   ]
  },
  {
   "cell_type": "markdown",
   "metadata": {},
   "source": [
    "Basically, we can not assume that all data collected so far is representative for our model. It might happen that we are not seeing enough evidence thus leading us into false conclusions. That is why a prior belief can correct our measurements."
   ]
  },
  {
   "cell_type": "code",
   "execution_count": null,
   "metadata": {},
   "outputs": [],
   "source": []
  }
 ],
 "metadata": {
  "kernelspec": {
   "display_name": "Python 3",
   "language": "python",
   "name": "python3"
  },
  "language_info": {
   "codemirror_mode": {
    "name": "ipython",
    "version": 3
   },
   "file_extension": ".py",
   "mimetype": "text/x-python",
   "name": "python",
   "nbconvert_exporter": "python",
   "pygments_lexer": "ipython3",
   "version": "3.6.8"
  }
 },
 "nbformat": 4,
 "nbformat_minor": 2
}
