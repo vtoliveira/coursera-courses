{
 "cells": [
  {
   "cell_type": "markdown",
   "metadata": {},
   "source": [
    "# Assignment 2 - Likelihoods"
   ]
  },
  {
   "cell_type": "markdown",
   "metadata": {},
   "source": [
    "**Q1: Let’s assume you expect this is a fair coin. What is the binomial probability of\n",
    "observing 8 heads out of 10 coin flips, when θ = 0.5?**\n",
    "\n",
    "- **A) 0.044**\n",
    "- B) 0.05\n",
    "- C) 0.5\n",
    "- D) 0.8"
   ]
  },
  {
   "cell_type": "code",
   "execution_count": 7,
   "metadata": {},
   "outputs": [
    {
     "data": {
      "text/plain": [
       "0.0439453125"
      ]
     },
     "execution_count": 7,
     "metadata": {},
     "output_type": "execute_result"
    }
   ],
   "source": [
    "import math\n",
    "\n",
    "n = 10\n",
    "k = 8\n",
    "\n",
    "theta = 0.5\n",
    "\n",
    "def binomial_probability(n, k, theta):\n",
    "    return (math.factorial(n)/((math.factorial(k))*(math.factorial(n-k))))*(theta**k)*(1-theta)**(n-k)\n",
    "\n",
    "binomial_probability(10, 8, 0.5)"
   ]
  },
  {
   "cell_type": "markdown",
   "metadata": {},
   "source": [
    "**Q2: The likelihood curve rises up and falls down, except at the extremes, when 0 heads\n",
    "or only heads are observed. Open the PlotLikelihood.R script, and plot the likelihood\n",
    "curves for 0 heads by changing the number of successes in line 3 to 0, and running the\n",
    "script. What does the likelihood curve look like?**\n",
    "\n",
    "- A) The likelihood curve is a horizontal line.\n",
    "- B) The script returns and error message: it is not possible to plot the likelihood curve for 0 heads.\n",
    "- **C) The curve starts at its highest point at θ = 0, and then the likelihood decreases as θ increases.**\n",
    "- D) The curve starts at its lowest point at θ = 0, and then the likelihood increases as θ increases."
   ]
  },
  {
   "cell_type": "code",
   "execution_count": 21,
   "metadata": {},
   "outputs": [
    {
     "data": {
      "image/png": "[encoded data removed]",
      "text/plain": [
       "<Figure size 432x288 with 1 Axes>"
      ]
     },
     "metadata": {},
     "output_type": "display_data"
    }
   ],
   "source": [
    "import numpy as np\n",
    "import seaborn as sns\n",
    "import pandas as pd\n",
    "\n",
    "thetas = np.linspace(0, 1, 100)\n",
    "\n",
    "likelihoods = []\n",
    "for theta in thetas:\n",
    "    likelihoods.append(binomial_probability(n, 0, theta))\n",
    "\n",
    "data = pd.DataFrame(np.c_[thetas, np.array(likelihoods)], columns=['theta', 'likelihood'])\n",
    "sns.lineplot(x=\"theta\", y=\"likelihood\",\n",
    "             data=data);"
   ]
  },
  {
   "cell_type": "markdown",
   "metadata": {},
   "source": [
    "**Q3: Get a coin out of your wallet. Flip it 13 times, and count the number of heads. Open\n",
    "the R file CalculateLikelihoodRatio.R to calculate the likelihood of your observed results\n",
    "under the hypothesis that your coin is fair, compared to the hypothesis that the coin is\n",
    "not fair. In line 3, set the number of successes to the number of heads you observed. In\n",
    "line 5, change the 0 in 0/13 to the number of heads you have observed (or leave it to 0 if\n",
    "you didn’t observe any heads at all!). Run the script to calculate the likelihood ratio. What\n",
    "is the likelihood ratio of a fair compared to a non-fair coin (or H0/H1) that flips heads as 8\n",
    "often as you have observed, based on the observed data? Round your answer to 2 digits\n",
    "after the decimal.**"
   ]
  },
  {
   "cell_type": "code",
   "execution_count": null,
   "metadata": {},
   "outputs": [],
   "source": []
  }
 ],
 "metadata": {
  "kernelspec": {
   "display_name": "Python 3",
   "language": "python",
   "name": "python3"
  },
  "language_info": {
   "codemirror_mode": {
    "name": "ipython",
    "version": 3
   },
   "file_extension": ".py",
   "mimetype": "text/x-python",
   "name": "python",
   "nbconvert_exporter": "python",
   "pygments_lexer": "ipython3",
   "version": "3.6.8"
  }
 },
 "nbformat": 4,
 "nbformat_minor": 2
}
